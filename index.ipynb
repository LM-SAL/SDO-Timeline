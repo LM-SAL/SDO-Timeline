{
 "cells": [
  {
   "cell_type": "code",
   "execution_count": null,
   "metadata": {},
   "outputs": [],
   "source": [
    "from datetime import datetime\n",
    "import pandas as pd\n",
    "from itables import init_notebook_mode\n",
    "import itables.options as opt\n",
    "\n",
    "opt.maxBytes = 0\n",
    "init_notebook_mode(all_interactive=True)\n"
   ]
  },
  {
   "cell_type": "code",
   "execution_count": null,
   "metadata": {},
   "outputs": [],
   "source": [
    "pd.read_csv(f\"timeline_{datetime.today().strftime('%Y%m%d')}.csv\")\n"
   ]
  }
 ],
 "metadata": {
  "language_info": {
   "name": "python"
  }
 },
 "nbformat": 4,
 "nbformat_minor": 2
}
